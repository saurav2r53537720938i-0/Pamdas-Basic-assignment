{
 "cells": [
  {
   "cell_type": "code",
   "execution_count": 1,
   "id": "a28d704c-c1f0-4588-a020-d6f283caf154",
   "metadata": {},
   "outputs": [
    {
     "name": "stdout",
     "output_type": "stream",
     "text": [
      "0     4\n",
      "1     8\n",
      "2    15\n",
      "3    16\n",
      "4    23\n",
      "5    42\n",
      "dtype: int64\n"
     ]
    }
   ],
   "source": [
    "import pandas as pd\n",
    "\n",
    "data = [4,8,15,16,23,42]\n",
    "series = pd.Series(data)\n",
    "print(series)"
   ]
  },
  {
   "cell_type": "code",
   "execution_count": 2,
   "id": "cd7ebda4-041d-4a8c-93e1-2da2f73fc595",
   "metadata": {},
   "outputs": [
    {
     "name": "stdout",
     "output_type": "stream",
     "text": [
      "0     1\n",
      "1     2\n",
      "2     3\n",
      "3     4\n",
      "4     5\n",
      "5     6\n",
      "6     7\n",
      "7     8\n",
      "8     9\n",
      "9    10\n",
      "dtype: int64\n"
     ]
    }
   ],
   "source": [
    "import pandas as pd\n",
    "\n",
    "# Create a list with 10 elements\n",
    "my_list = [1,2,3,4,5,6,7,8,9,10]\n",
    "\n",
    "# Convert the list to a pandas series\n",
    "my_series = pd.Series(my_list)\n",
    "\n",
    "# Print the resulting Series\n",
    "print(my_series)"
   ]
  },
  {
   "cell_type": "code",
   "execution_count": 4,
   "id": "27eac279-841a-49ba-be1c-0c8485827abd",
   "metadata": {},
   "outputs": [
    {
     "ename": "SyntaxError",
     "evalue": "invalid syntax. Perhaps you forgot a comma? (915583852.py, line 3)",
     "output_type": "error",
     "traceback": [
      "\u001b[0;36m  Cell \u001b[0;32mIn[4], line 3\u001b[0;36m\u001b[0m\n\u001b[0;31m    data = {'Name': ['Alice', 'Bob','Claire']\u001b[0m\n\u001b[0m                    ^\u001b[0m\n\u001b[0;31mSyntaxError\u001b[0m\u001b[0;31m:\u001b[0m invalid syntax. Perhaps you forgot a comma?\n"
     ]
    }
   ],
   "source": [
    "import pandas as pd\n",
    "\n",
    "data = {'Name': ['Alice', 'Bob','Claire']\n",
    "        'Age':  [25,30,27],\n",
    "        'Gender':  ['Female','Male','Female']}"
   ]
  },
  {
   "cell_type": "markdown",
   "id": "aa65e4b2-993d-4aab-ad60-24988ff38cd0",
   "metadata": {},
   "source": [
    "In pandas,a DataFrame is a two-dimensional is a two-dimensional labeled data structure that resemble a table or a spreadsheet.it consists of rows and columns,where each column can be of a diffrent data type.DataFrames are particularly useful for handling and analyzing structured data."
   ]
  },
  {
   "cell_type": "code",
   "execution_count": 6,
   "id": "b7e662f5-6823-46c1-ba4e-99c03c4ba9d9",
   "metadata": {},
   "outputs": [
    {
     "name": "stdout",
     "output_type": "stream",
     "text": [
      "Series:\n",
      "0    1\n",
      "1    2\n",
      "2    3\n",
      "3    4\n",
      "Name: MySeries, dtype: int64\n",
      "\n",
      "DataFrame:\n",
      "   Column1 Column2\n",
      "0        1       A\n",
      "1        2       B\n",
      "2        3       C\n",
      "3        4       D\n"
     ]
    }
   ],
   "source": [
    "import pandas as pd\n",
    "\n",
    "# Creating a Series\n",
    "my_series = pd.Series([1,2,3,4],\n",
    "                      name='MySeries')\n",
    "\n",
    "# Creating a DataFrame\n",
    "data = {'Column1': [1,2,3,4],\n",
    "        'Column2': ['A','B','C','D']}\n",
    "my_dataframe = pd.DataFrame(data)\n",
    "\n",
    "# Printing the Series and DataFrame\n",
    "print(\"Series:\")\n",
    "print(my_series)\n",
    "print(\"\\nDataFrame:\")\n",
    "print(my_dataframe)"
   ]
  },
  {
   "cell_type": "markdown",
   "id": "c6daa9e1-dec7-46ce-84ba-cb0048018a09",
   "metadata": {},
   "source": [
    "In pandas,a libary for data manipulation in python,both Series and DataFrame are mutable,meaning you can modify their values after creation.However,the concept of panels has been deprecated in recent version of pandas,and it's recommended to use multilndex DataFrames instead."
   ]
  },
  {
   "cell_type": "code",
   "execution_count": 10,
   "id": "94853b74-ee4d-4158-b62b-fddb1dc7d4f6",
   "metadata": {},
   "outputs": [
    {
     "name": "stdout",
     "output_type": "stream",
     "text": [
      "      Name  Age  Score\n",
      "0    Alice   25     95\n",
      "1      Bob   30     89\n",
      "2  Charlie   22     75\n"
     ]
    }
   ],
   "source": [
    "import pandas as pd\n",
    "\n",
    "# Creating Series\n",
    "name = pd.Series(['Alice', 'Bob', 'Charlie'])\n",
    "ages = pd.Series([25,30,22])\n",
    "scores = pd.Series([95,89,75])\n",
    "\n",
    "# Creating DataFrame using the Series\n",
    "data = {'Name': name, 'Age': ages,'Score':scores}\n",
    "df = pd.DataFrame(data)\n",
    "\n",
    "# Displaying the DataFrame\n",
    "print(df)"
   ]
  },
  {
   "cell_type": "code",
   "execution_count": null,
   "id": "98100261-a059-4501-89ea-4ab59fbdceeb",
   "metadata": {},
   "outputs": [],
   "source": []
  }
 ],
 "metadata": {
  "kernelspec": {
   "display_name": "Python 3 (ipykernel)",
   "language": "python",
   "name": "python3"
  },
  "language_info": {
   "codemirror_mode": {
    "name": "ipython",
    "version": 3
   },
   "file_extension": ".py",
   "mimetype": "text/x-python",
   "name": "python",
   "nbconvert_exporter": "python",
   "pygments_lexer": "ipython3",
   "version": "3.10.8"
  }
 },
 "nbformat": 4,
 "nbformat_minor": 5
}
